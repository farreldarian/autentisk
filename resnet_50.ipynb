{
 "cells": [
  {
   "cell_type": "code",
   "execution_count": null,
   "metadata": {},
   "outputs": [],
   "source": [
    "from helpers.data.quadlet_data_gen import QuadletDataGen\n",
    "from tensorflow.keras.applications.resnet_v2 import ResNet50V2, preprocess_input\n",
    "from tensorflow.keras.optimizers import Nadam\n",
    "import tensorflow.keras as keras\n",
    "import tensorflow as tf\n",
    "import tensorflow.keras.backend as K\n",
    "\n",
    "from helpers.neural_network.loss import loss_tensor"
   ]
  },
  {
   "cell_type": "code",
   "execution_count": null,
   "metadata": {},
   "outputs": [],
   "source": [
    "def build_model() -> keras.Model:\n",
    "    inputs = tf.keras.Input(shape=(224, 224, 3))\n",
    "    out: keras.Model = ResNet50V2(include_top=False)(inputs)\n",
    "    return tf.keras.Model(inputs=inputs, outputs=out)\n",
    "\n",
    "\n",
    "model: keras.Model = build_model()"
   ]
  },
  {
   "cell_type": "code",
   "execution_count": null,
   "metadata": {},
   "outputs": [],
   "source": [
    "train_gen: QuadletDataGen = QuadletDataGen(preprocess_func=preprocess_input)\n",
    "model.compile(loss=loss_tensor, optimizer=Nadam())\n",
    "model.fit(train_gen, epochs=10)"
   ]
  }
 ],
 "metadata": {
  "language_info": {
   "name": "python"
  },
  "orig_nbformat": 4
 },
 "nbformat": 4,
 "nbformat_minor": 2
}
